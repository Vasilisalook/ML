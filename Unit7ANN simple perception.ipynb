{
 "cells": [
  {
   "cell_type": "code",
   "execution_count": 1,
   "id": "5460635c",
   "metadata": {},
   "outputs": [],
   "source": [
    "import numpy as np"
   ]
  },
  {
   "cell_type": "code",
   "execution_count": 2,
   "id": "960cead0",
   "metadata": {},
   "outputs": [],
   "source": [
    "inputs = np.array([45, 25])"
   ]
  },
  {
   "cell_type": "code",
   "execution_count": 3,
   "id": "7412c55f",
   "metadata": {},
   "outputs": [
    {
     "data": {
      "text/plain": [
       "numpy.ndarray"
      ]
     },
     "execution_count": 3,
     "metadata": {},
     "output_type": "execute_result"
    }
   ],
   "source": [
    "type(inputs)"
   ]
  },
  {
   "cell_type": "code",
   "execution_count": 4,
   "id": "2154d23e",
   "metadata": {},
   "outputs": [
    {
     "data": {
      "text/plain": [
       "45"
      ]
     },
     "execution_count": 4,
     "metadata": {},
     "output_type": "execute_result"
    }
   ],
   "source": [
    "inputs[0]"
   ]
  },
  {
   "cell_type": "code",
   "execution_count": 6,
   "id": "05831846",
   "metadata": {},
   "outputs": [],
   "source": [
    "weights = np.array([0.7, 0.1])"
   ]
  },
  {
   "cell_type": "code",
   "execution_count": 7,
   "id": "abbdf96e",
   "metadata": {},
   "outputs": [
    {
     "data": {
      "text/plain": [
       "0.7"
      ]
     },
     "execution_count": 7,
     "metadata": {},
     "output_type": "execute_result"
    }
   ],
   "source": [
    "weights[0]"
   ]
  },
  {
   "cell_type": "code",
   "execution_count": 9,
   "id": "6fee3444",
   "metadata": {},
   "outputs": [],
   "source": [
    "def sum_func(inputs, weights):\n",
    "    return inputs.dot(weights)"
   ]
  },
  {
   "cell_type": "code",
   "execution_count": 10,
   "id": "54cc3095",
   "metadata": {},
   "outputs": [
    {
     "data": {
      "text/plain": [
       "34.0"
      ]
     },
     "execution_count": 10,
     "metadata": {},
     "output_type": "execute_result"
    }
   ],
   "source": [
    "s_prob1 = sum_func(inputs, weights)\n",
    "s_prob1"
   ]
  },
  {
   "cell_type": "code",
   "execution_count": 12,
   "id": "9c03daa4",
   "metadata": {},
   "outputs": [],
   "source": [
    "def step_function(sum_func):\n",
    "    if (sum_func >= 1):\n",
    "        print(f'The SUM Function is greater or equal 1')\n",
    "        return 1\n",
    "    else:\n",
    "        print(f'The Sum Function is NOT greater')\n",
    "        return 0"
   ]
  },
  {
   "cell_type": "code",
   "execution_count": 13,
   "id": "68dd5960",
   "metadata": {
    "scrolled": true
   },
   "outputs": [
    {
     "name": "stdout",
     "output_type": "stream",
     "text": [
      "The SUM Function is greater or equal 1\n"
     ]
    },
    {
     "data": {
      "text/plain": [
       "1"
      ]
     },
     "execution_count": 13,
     "metadata": {},
     "output_type": "execute_result"
    }
   ],
   "source": [
    "step_function(s_prob1 )"
   ]
  },
  {
   "cell_type": "code",
   "execution_count": 14,
   "id": "6bedf2d9",
   "metadata": {},
   "outputs": [],
   "source": [
    "weights = [-0.7, 0.1]"
   ]
  },
  {
   "cell_type": "code",
   "execution_count": 18,
   "id": "1ba1dd4e",
   "metadata": {},
   "outputs": [
    {
     "data": {
      "text/plain": [
       "-28.999999999999996"
      ]
     },
     "execution_count": 18,
     "metadata": {},
     "output_type": "execute_result"
    }
   ],
   "source": [
    "s_prob2 = sum_func(inputs, weights)\n",
    "s_prob2"
   ]
  },
  {
   "cell_type": "code",
   "execution_count": 19,
   "id": "5585c432",
   "metadata": {},
   "outputs": [
    {
     "name": "stdout",
     "output_type": "stream",
     "text": [
      "The Sum Function is NOT greater\n"
     ]
    },
    {
     "data": {
      "text/plain": [
       "0"
      ]
     },
     "execution_count": 19,
     "metadata": {},
     "output_type": "execute_result"
    }
   ],
   "source": [
    "step_function(s_prob2)"
   ]
  }
 ],
 "metadata": {
  "kernelspec": {
   "display_name": "Python 3 (ipykernel)",
   "language": "python",
   "name": "python3"
  },
  "language_info": {
   "codemirror_mode": {
    "name": "ipython",
    "version": 3
   },
   "file_extension": ".py",
   "mimetype": "text/x-python",
   "name": "python",
   "nbconvert_exporter": "python",
   "pygments_lexer": "ipython3",
   "version": "3.9.7"
  }
 },
 "nbformat": 4,
 "nbformat_minor": 5
}
