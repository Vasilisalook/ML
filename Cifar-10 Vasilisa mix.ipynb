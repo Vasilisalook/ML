{
 "cells": [
  {
   "cell_type": "code",
   "execution_count": 1,
   "id": "bd4022d5",
   "metadata": {},
   "outputs": [
    {
     "name": "stdout",
     "output_type": "stream",
     "text": [
      "Collecting package metadata (current_repodata.json): done\n",
      "Solving environment: \\ \n",
      "The environment is inconsistent, please check the package plan carefully\n",
      "The following packages are causing the inconsistency:\n",
      "\n",
      "  - defaults/noarch::keras-preprocessing==1.1.2=pyhd3eb1b0_0\n",
      "  - defaults/osx-64::tensorflow-base==2.9.1=eigen_py310h36d2db2_1\n",
      "  - defaults/osx-64::keras==2.9.0=py310hecd8cb5_0\n",
      "  - defaults/osx-64::tensorflow==2.9.1=eigen_py310ha64145f_1\n",
      "done\n",
      "\n",
      "## Package Plan ##\n",
      "\n",
      "  environment location: /Users/vasilisa533/opt/anaconda3/envs/forCNN\n",
      "\n",
      "  added / updated specs:\n",
      "    - tensorflow\n",
      "\n",
      "\n",
      "The following NEW packages will be INSTALLED:\n",
      "\n",
      "  scipy              pkgs/main/osx-64::scipy-1.7.3-py310h0a4c7d7_2 None\n",
      "\n",
      "\n",
      "Preparing transaction: done\n",
      "Verifying transaction: done\n",
      "Executing transaction: done\n",
      "Retrieving notices: ...working... done\n",
      "\n",
      "Note: you may need to restart the kernel to use updated packages.\n"
     ]
    }
   ],
   "source": [
    "conda install tensorflow"
   ]
  },
  {
   "cell_type": "code",
   "execution_count": 2,
   "id": "22d5c237",
   "metadata": {},
   "outputs": [],
   "source": [
    "from __future__ import print_function"
   ]
  },
  {
   "cell_type": "code",
   "execution_count": 3,
   "id": "0788bf26",
   "metadata": {},
   "outputs": [],
   "source": [
    "from tensorflow.keras.datasets import cifar10"
   ]
  },
  {
   "cell_type": "code",
   "execution_count": 4,
   "id": "64387dbc",
   "metadata": {},
   "outputs": [],
   "source": [
    "from tensorflow.keras.preprocessing.image import ImageDataGenerator"
   ]
  },
  {
   "cell_type": "code",
   "execution_count": 5,
   "id": "123c0e95",
   "metadata": {},
   "outputs": [],
   "source": [
    "from tensorflow.keras.models import Sequential"
   ]
  },
  {
   "cell_type": "code",
   "execution_count": 6,
   "id": "eca39337",
   "metadata": {},
   "outputs": [],
   "source": [
    "from tensorflow.keras.layers import Dense, Dropout, Activation, Flatten"
   ]
  },
  {
   "cell_type": "code",
   "execution_count": 7,
   "id": "e56579d5",
   "metadata": {},
   "outputs": [],
   "source": [
    "from tensorflow.keras.layers import BatchNormalization"
   ]
  },
  {
   "cell_type": "code",
   "execution_count": 8,
   "id": "d4335a06",
   "metadata": {},
   "outputs": [],
   "source": [
    "from tensorflow.keras.layers import Conv2D, MaxPooling2D"
   ]
  },
  {
   "cell_type": "code",
   "execution_count": 9,
   "id": "f0d9b537",
   "metadata": {},
   "outputs": [],
   "source": [
    "from tensorflow.keras.regularizers import l2"
   ]
  },
  {
   "cell_type": "code",
   "execution_count": 10,
   "id": "63e7e341",
   "metadata": {},
   "outputs": [],
   "source": [
    "import numpy as np\n",
    "import os\n",
    "import matplotlib.pyplot as plt\n",
    "plt.rcParams['axes.unicode_minus'] = False\n",
    "plt.style.use('fivethirtyeight')\n",
    "%matplotlib inline"
   ]
  },
  {
   "cell_type": "code",
   "execution_count": 11,
   "id": "4066bc4d",
   "metadata": {},
   "outputs": [],
   "source": [
    "batch_size = 32\n",
    "num_classes = 10\n",
    "epochs = 50"
   ]
  },
  {
   "cell_type": "code",
   "execution_count": 12,
   "id": "f0901882",
   "metadata": {},
   "outputs": [],
   "source": [
    "import ssl\n",
    "ssl._create_default_https_context = ssl._create_unverified_context"
   ]
  },
  {
   "cell_type": "code",
   "execution_count": 13,
   "id": "423649f5",
   "metadata": {},
   "outputs": [],
   "source": [
    "(x_train, y_train), (x_test, y_test) = cifar10.load_data()"
   ]
  },
  {
   "cell_type": "code",
   "execution_count": 14,
   "id": "6f2c5a38",
   "metadata": {},
   "outputs": [
    {
     "name": "stdout",
     "output_type": "stream",
     "text": [
      "x_train shape: (50000, 32, 32, 3)\n",
      "50000 train samples\n",
      "10000 test samples\n"
     ]
    }
   ],
   "source": [
    "print('x_train shape:', x_train.shape)\n",
    "print(x_train.shape[0], 'train samples')\n",
    "print(x_test.shape[0], 'test samples')"
   ]
  },
  {
   "cell_type": "code",
   "execution_count": 15,
   "id": "4fd2b264",
   "metadata": {},
   "outputs": [],
   "source": [
    "class_names = ['airplane','automobile','bird','cat','deer',\n",
    "               'dog','frog','horse','ship','truck']"
   ]
  },
  {
   "cell_type": "code",
   "execution_count": 16,
   "id": "5f53ed11",
   "metadata": {},
   "outputs": [
    {
     "name": "stdout",
     "output_type": "stream",
     "text": [
      "Requirement already satisfied: matplotlib in ./opt/anaconda3/envs/forCNN/lib/python3.10/site-packages (3.6.2)\n",
      "Requirement already satisfied: packaging>=20.0 in ./opt/anaconda3/envs/forCNN/lib/python3.10/site-packages (from matplotlib) (21.3)\n",
      "Requirement already satisfied: numpy>=1.19 in ./opt/anaconda3/envs/forCNN/lib/python3.10/site-packages (from matplotlib) (1.22.3)\n",
      "Requirement already satisfied: pillow>=6.2.0 in ./opt/anaconda3/envs/forCNN/lib/python3.10/site-packages (from matplotlib) (9.3.0)\n",
      "Requirement already satisfied: python-dateutil>=2.7 in ./opt/anaconda3/envs/forCNN/lib/python3.10/site-packages (from matplotlib) (2.8.2)\n",
      "Requirement already satisfied: cycler>=0.10 in ./opt/anaconda3/envs/forCNN/lib/python3.10/site-packages (from matplotlib) (0.11.0)\n",
      "Requirement already satisfied: fonttools>=4.22.0 in ./opt/anaconda3/envs/forCNN/lib/python3.10/site-packages (from matplotlib) (4.38.0)\n",
      "Requirement already satisfied: contourpy>=1.0.1 in ./opt/anaconda3/envs/forCNN/lib/python3.10/site-packages (from matplotlib) (1.0.6)\n",
      "Requirement already satisfied: kiwisolver>=1.0.1 in ./opt/anaconda3/envs/forCNN/lib/python3.10/site-packages (from matplotlib) (1.4.4)\n",
      "Requirement already satisfied: pyparsing>=2.2.1 in ./opt/anaconda3/envs/forCNN/lib/python3.10/site-packages (from matplotlib) (3.0.9)\n",
      "Requirement already satisfied: six>=1.5 in ./opt/anaconda3/envs/forCNN/lib/python3.10/site-packages (from python-dateutil>=2.7->matplotlib) (1.16.0)\n",
      "Note: you may need to restart the kernel to use updated packages.\n"
     ]
    }
   ],
   "source": [
    " pip install matplotlib"
   ]
  },
  {
   "cell_type": "code",
   "execution_count": 17,
   "id": "0699ebcc",
   "metadata": {},
   "outputs": [],
   "source": [
    "import matplotlib.pyplot as plt"
   ]
  },
  {
   "cell_type": "code",
   "execution_count": 18,
   "id": "0e24e09a",
   "metadata": {},
   "outputs": [
    {
     "data": {
      "image/png": "[encoded data removed]",
      "text/plain": [
       "<Figure size 1000x500 with 10 Axes>"
      ]
     },
     "metadata": {},
     "output_type": "display_data"
    }
   ],
   "source": [
    "fig = plt.figure(figsize=(10,5))\n",
    "for i in range(num_classes):\n",
    "    ax = fig.add_subplot(2, 5, 1 + i, xticks=[], yticks=[])\n",
    "    idx = np.where(y_train[:]==i)[0]\n",
    "    features_idx = x_train[idx,::]\n",
    "    img_num = np.random.randint(features_idx.shape[0])\n",
    "    im = (features_idx[img_num,::])\n",
    "    ax.set_title(class_names[i])\n",
    "    plt.imshow(im)\n",
    "plt.show()"
   ]
  },
  {
   "cell_type": "code",
   "execution_count": 19,
   "id": "21c2b007",
   "metadata": {},
   "outputs": [],
   "source": [
    "import tensorflow as tf"
   ]
  },
  {
   "cell_type": "code",
   "execution_count": 25,
   "id": "658fef1a",
   "metadata": {},
   "outputs": [],
   "source": [
    "y_train = tf.keras.utils.to_categorical(y_train, num_classes)\n",
    "y_test = tf.keras.utils.to_categorical(y_test, num_classes)"
   ]
  },
  {
   "cell_type": "code",
   "execution_count": 21,
   "id": "bb23c6c1",
   "metadata": {},
   "outputs": [],
   "source": [
    "valid_size = 10000"
   ]
  },
  {
   "cell_type": "code",
   "execution_count": 22,
   "id": "44eb586e",
   "metadata": {},
   "outputs": [
    {
     "data": {
      "text/plain": [
       "(50000, 1)"
      ]
     },
     "execution_count": 22,
     "metadata": {},
     "output_type": "execute_result"
    }
   ],
   "source": [
    "y_train.shape"
   ]
  },
  {
   "cell_type": "code",
   "execution_count": 23,
   "id": "64e28fe3",
   "metadata": {},
   "outputs": [
    {
     "data": {
      "text/plain": [
       "6"
      ]
     },
     "execution_count": 23,
     "metadata": {},
     "output_type": "execute_result"
    }
   ],
   "source": [
    "y_train[0][0]"
   ]
  },
  {
   "cell_type": "code",
   "execution_count": 24,
   "id": "d92941db",
   "metadata": {},
   "outputs": [
    {
     "data": {
      "text/plain": [
       "(50000, 32, 32, 3)"
      ]
     },
     "execution_count": 24,
     "metadata": {},
     "output_type": "execute_result"
    }
   ],
   "source": [
    "x_train.shape"
   ]
  },
  {
   "cell_type": "code",
   "execution_count": 25,
   "id": "524fc97a",
   "metadata": {},
   "outputs": [
    {
     "data": {
      "text/plain": [
       "array([[[ 59,  62,  63],\n",
       "        [ 43,  46,  45],\n",
       "        [ 50,  48,  43],\n",
       "        ...,\n",
       "        [158, 132, 108],\n",
       "        [152, 125, 102],\n",
       "        [148, 124, 103]],\n",
       "\n",
       "       [[ 16,  20,  20],\n",
       "        [  0,   0,   0],\n",
       "        [ 18,   8,   0],\n",
       "        ...,\n",
       "        [123,  88,  55],\n",
       "        [119,  83,  50],\n",
       "        [122,  87,  57]],\n",
       "\n",
       "       [[ 25,  24,  21],\n",
       "        [ 16,   7,   0],\n",
       "        [ 49,  27,   8],\n",
       "        ...,\n",
       "        [118,  84,  50],\n",
       "        [120,  84,  50],\n",
       "        [109,  73,  42]],\n",
       "\n",
       "       ...,\n",
       "\n",
       "       [[208, 170,  96],\n",
       "        [201, 153,  34],\n",
       "        [198, 161,  26],\n",
       "        ...,\n",
       "        [160, 133,  70],\n",
       "        [ 56,  31,   7],\n",
       "        [ 53,  34,  20]],\n",
       "\n",
       "       [[180, 139,  96],\n",
       "        [173, 123,  42],\n",
       "        [186, 144,  30],\n",
       "        ...,\n",
       "        [184, 148,  94],\n",
       "        [ 97,  62,  34],\n",
       "        [ 83,  53,  34]],\n",
       "\n",
       "       [[177, 144, 116],\n",
       "        [168, 129,  94],\n",
       "        [179, 142,  87],\n",
       "        ...,\n",
       "        [216, 184, 140],\n",
       "        [151, 118,  84],\n",
       "        [123,  92,  72]]], dtype=uint8)"
      ]
     },
     "execution_count": 25,
     "metadata": {},
     "output_type": "execute_result"
    }
   ],
   "source": [
    "x_train[0]"
   ]
  },
  {
   "cell_type": "code",
   "execution_count": 26,
   "id": "b8982232",
   "metadata": {},
   "outputs": [
    {
     "data": {
      "text/plain": [
       "(32, 32, 3)"
      ]
     },
     "execution_count": 26,
     "metadata": {},
     "output_type": "execute_result"
    }
   ],
   "source": [
    "x_train[0].shape"
   ]
  },
  {
   "cell_type": "code",
   "execution_count": 27,
   "id": "a4051bc6",
   "metadata": {},
   "outputs": [
    {
     "data": {
      "text/plain": [
       "'frog'"
      ]
     },
     "execution_count": 27,
     "metadata": {},
     "output_type": "execute_result"
    }
   ],
   "source": [
    "class_names[y_train[0][0]]"
   ]
  },
  {
   "cell_type": "code",
   "execution_count": 28,
   "id": "77e88f7a",
   "metadata": {},
   "outputs": [
    {
     "data": {
      "text/plain": [
       "'truck'"
      ]
     },
     "execution_count": 28,
     "metadata": {},
     "output_type": "execute_result"
    }
   ],
   "source": [
    "class_names[y_train[1][0]]"
   ]
  },
  {
   "cell_type": "code",
   "execution_count": 32,
   "id": "71bfc13e",
   "metadata": {},
   "outputs": [
    {
     "name": "stdout",
     "output_type": "stream",
     "text": [
      "Number of images = 50000, width = 32, height = 32, channels = 3\n"
     ]
    }
   ],
   "source": [
    "numpic, x, y, c = x_train.shape\n",
    "print(f'Number of images = {numpic}, width = {x}, height = {y}, channels = {c}')"
   ]
  },
  {
   "cell_type": "code",
   "execution_count": 33,
   "id": "9810daee",
   "metadata": {},
   "outputs": [
    {
     "data": {
      "text/plain": [
       "(10000, 32, 32, 3)"
      ]
     },
     "execution_count": 33,
     "metadata": {},
     "output_type": "execute_result"
    }
   ],
   "source": [
    "x_test.shape"
   ]
  },
  {
   "cell_type": "code",
   "execution_count": 35,
   "id": "f3f85f0f",
   "metadata": {},
   "outputs": [],
   "source": [
    "x_train =x_train / 255.0"
   ]
  },
  {
   "cell_type": "code",
   "execution_count": 36,
   "id": "8aa05eff",
   "metadata": {},
   "outputs": [],
   "source": [
    "x_test =  x_test / 255.0"
   ]
  },
  {
   "cell_type": "code",
   "execution_count": 37,
   "id": "a4fecdca",
   "metadata": {},
   "outputs": [
    {
     "data": {
      "text/plain": [
       "array([[3],\n",
       "       [8],\n",
       "       [8],\n",
       "       ...,\n",
       "       [5],\n",
       "       [1],\n",
       "       [7]], dtype=uint8)"
      ]
     },
     "execution_count": 37,
     "metadata": {},
     "output_type": "execute_result"
    }
   ],
   "source": [
    "y_test"
   ]
  },
  {
   "cell_type": "code",
   "execution_count": 41,
   "id": "0129ea15",
   "metadata": {},
   "outputs": [],
   "source": [
    "from tensorflow.keras.utils import to_categorical"
   ]
  },
  {
   "cell_type": "code",
   "execution_count": 45,
   "id": "12845552",
   "metadata": {},
   "outputs": [],
   "source": [
    "y_cat_train = to_categorical(y_train,10)"
   ]
  },
  {
   "cell_type": "code",
   "execution_count": 46,
   "id": "6c7e770d",
   "metadata": {},
   "outputs": [],
   "source": [
    "y_cat_test = to_categorical(y_test,10)"
   ]
  },
  {
   "cell_type": "code",
   "execution_count": 47,
   "id": "595c64c0",
   "metadata": {},
   "outputs": [
    {
     "data": {
      "text/plain": [
       "array([[0., 0., 0., ..., 0., 0., 0.],\n",
       "       [0., 0., 0., ..., 0., 0., 1.],\n",
       "       [0., 0., 0., ..., 0., 0., 1.],\n",
       "       ...,\n",
       "       [0., 0., 0., ..., 0., 0., 1.],\n",
       "       [0., 1., 0., ..., 0., 0., 0.],\n",
       "       [0., 1., 0., ..., 0., 0., 0.]], dtype=float32)"
      ]
     },
     "execution_count": 47,
     "metadata": {},
     "output_type": "execute_result"
    }
   ],
   "source": [
    "y_cat_train"
   ]
  },
  {
   "cell_type": "code",
   "execution_count": null,
   "id": "43d9a604",
   "metadata": {},
   "outputs": [],
   "source": []
  },
  {
   "cell_type": "code",
   "execution_count": 48,
   "id": "0502d7b8",
   "metadata": {},
   "outputs": [
    {
     "data": {
      "text/plain": [
       "(10000, 32, 32, 3)"
      ]
     },
     "execution_count": 48,
     "metadata": {},
     "output_type": "execute_result"
    }
   ],
   "source": [
    "x_val = x_train[:valid_size]\n",
    "y_val_cat = y_cat_train[:valid_size]\n",
    "x_val.shape"
   ]
  },
  {
   "cell_type": "code",
   "execution_count": 49,
   "id": "d2c0efe4",
   "metadata": {},
   "outputs": [
    {
     "data": {
      "text/plain": [
       "array([[0., 0., 0., ..., 0., 0., 0.],\n",
       "       [0., 0., 0., ..., 0., 0., 1.],\n",
       "       [0., 0., 0., ..., 0., 0., 1.],\n",
       "       ...,\n",
       "       [0., 1., 0., ..., 0., 0., 0.],\n",
       "       [0., 1., 0., ..., 0., 0., 0.],\n",
       "       [0., 0., 0., ..., 0., 0., 0.]], dtype=float32)"
      ]
     },
     "execution_count": 49,
     "metadata": {},
     "output_type": "execute_result"
    }
   ],
   "source": [
    "y_val_cat"
   ]
  },
  {
   "cell_type": "code",
   "execution_count": 50,
   "id": "a8287a7a",
   "metadata": {},
   "outputs": [],
   "source": [
    "x_train = x_train[valid_size:]\n",
    "y_cat_train= y_cat_train[valid_size:]"
   ]
  },
  {
   "cell_type": "code",
   "execution_count": 51,
   "id": "c817293c",
   "metadata": {},
   "outputs": [
    {
     "data": {
      "text/plain": [
       "(40000, 32, 32, 3)"
      ]
     },
     "execution_count": 51,
     "metadata": {},
     "output_type": "execute_result"
    }
   ],
   "source": [
    "x_train.shape"
   ]
  },
  {
   "cell_type": "code",
   "execution_count": 52,
   "id": "02a737cc",
   "metadata": {
    "scrolled": false
   },
   "outputs": [
    {
     "data": {
      "text/plain": [
       "array([[0., 1., 0., ..., 0., 0., 0.],\n",
       "       [0., 0., 0., ..., 0., 0., 0.],\n",
       "       [0., 0., 0., ..., 0., 0., 0.],\n",
       "       ...,\n",
       "       [0., 0., 0., ..., 0., 0., 1.],\n",
       "       [0., 1., 0., ..., 0., 0., 0.],\n",
       "       [0., 1., 0., ..., 0., 0., 0.]], dtype=float32)"
      ]
     },
     "execution_count": 52,
     "metadata": {},
     "output_type": "execute_result"
    }
   ],
   "source": [
    "y_cat_train"
   ]
  },
  {
   "cell_type": "code",
   "execution_count": 56,
   "id": "e129f7f2",
   "metadata": {},
   "outputs": [],
   "source": [
    "from keras.layers import Dense, Conv2D, MaxPool2D, Flatten   "
   ]
  },
  {
   "cell_type": "code",
   "execution_count": 66,
   "id": "b26f0468",
   "metadata": {},
   "outputs": [],
   "source": [
    "model = Sequential()\n",
    "\n",
    "model.add(Conv2D(filters=32, kernel_size=(4,4),input_shape=(32, 32, 3), activation='relu',))\n",
    "model.add(MaxPool2D(pool_size=(2, 2)))\n",
    "model.add(Conv2D(filters=32, kernel_size=(4,4),input_shape=(32, 32, 3), activation='relu',))\n",
    "model.add(MaxPool2D(pool_size=(2, 2)))\n",
    "model.add(Flatten())\n",
    "model.add(Dense(256, activation='relu'))\n",
    "model.add(Dense(10, activation='softmax'))\n",
    "model.compile(loss='categorical_crossentropy',\n",
    "              optimizer='adam',\n",
    "              metrics=['accuracy'])"
   ]
  },
  {
   "cell_type": "code",
   "execution_count": 67,
   "id": "98a687a6",
   "metadata": {},
   "outputs": [
    {
     "name": "stdout",
     "output_type": "stream",
     "text": [
      "Model: \"sequential_4\"\n",
      "_________________________________________________________________\n",
      " Layer (type)                Output Shape              Param #   \n",
      "=================================================================\n",
      " conv2d_9 (Conv2D)           (None, 29, 29, 32)        1568      \n",
      "                                                                 \n",
      " max_pooling2d_6 (MaxPooling  (None, 14, 14, 32)       0         \n",
      " 2D)                                                             \n",
      "                                                                 \n",
      " conv2d_10 (Conv2D)          (None, 11, 11, 32)        16416     \n",
      "                                                                 \n",
      " max_pooling2d_7 (MaxPooling  (None, 5, 5, 32)         0         \n",
      " 2D)                                                             \n",
      "                                                                 \n",
      " flatten_3 (Flatten)         (None, 800)               0         \n",
      "                                                                 \n",
      " dense_6 (Dense)             (None, 256)               205056    \n",
      "                                                                 \n",
      " dense_7 (Dense)             (None, 10)                2570      \n",
      "                                                                 \n",
      "=================================================================\n",
      "Total params: 225,610\n",
      "Trainable params: 225,610\n",
      "Non-trainable params: 0\n",
      "_________________________________________________________________\n"
     ]
    }
   ],
   "source": [
    "model.summary()"
   ]
  },
  {
   "cell_type": "code",
   "execution_count": 61,
   "id": "5b213bc1",
   "metadata": {},
   "outputs": [],
   "source": [
    "from tensorflow.keras.callbacks import EarlyStopping"
   ]
  },
  {
   "cell_type": "code",
   "execution_count": 62,
   "id": "5a4ea3c5",
   "metadata": {},
   "outputs": [],
   "source": [
    "early_stop = EarlyStopping(monitor='val_loss',patience=2) #no need"
   ]
  },
  {
   "cell_type": "code",
   "execution_count": 68,
   "id": "dddc8ae0",
   "metadata": {
    "scrolled": true
   },
   "outputs": [
    {
     "name": "stdout",
     "output_type": "stream",
     "text": [
      "Epoch 1/25\n",
      "1250/1250 [==============================] - 10s 8ms/step - loss: 1.5546 - accuracy: 0.4346 - val_loss: 1.3290 - val_accuracy: 0.5254\n",
      "Epoch 2/25\n",
      "1250/1250 [==============================] - 10s 8ms/step - loss: 1.2494 - accuracy: 0.5563 - val_loss: 1.1657 - val_accuracy: 0.5871\n",
      "Epoch 3/25\n",
      "1250/1250 [==============================] - 10s 8ms/step - loss: 1.0984 - accuracy: 0.6137 - val_loss: 1.1120 - val_accuracy: 0.6097\n",
      "Epoch 4/25\n",
      "1250/1250 [==============================] - 10s 8ms/step - loss: 0.9837 - accuracy: 0.6537 - val_loss: 1.0434 - val_accuracy: 0.6330\n",
      "Epoch 5/25\n",
      "1250/1250 [==============================] - 10s 8ms/step - loss: 0.8878 - accuracy: 0.6883 - val_loss: 1.0486 - val_accuracy: 0.6354\n",
      "Epoch 6/25\n",
      "1250/1250 [==============================] - 10s 8ms/step - loss: 0.8061 - accuracy: 0.7190 - val_loss: 1.0298 - val_accuracy: 0.6536\n",
      "Epoch 7/25\n",
      "1250/1250 [==============================] - 10s 8ms/step - loss: 0.7297 - accuracy: 0.7452 - val_loss: 1.0310 - val_accuracy: 0.6573\n",
      "Epoch 8/25\n",
      "1250/1250 [==============================] - 10s 8ms/step - loss: 0.6622 - accuracy: 0.7675 - val_loss: 1.0305 - val_accuracy: 0.6717\n",
      "Epoch 9/25\n",
      "1250/1250 [==============================] - 10s 8ms/step - loss: 0.5963 - accuracy: 0.7907 - val_loss: 1.1457 - val_accuracy: 0.6467\n",
      "Epoch 10/25\n",
      "1250/1250 [==============================] - 10s 8ms/step - loss: 0.5305 - accuracy: 0.8127 - val_loss: 1.1325 - val_accuracy: 0.6544\n",
      "Epoch 11/25\n",
      "1250/1250 [==============================] - 10s 8ms/step - loss: 0.4751 - accuracy: 0.8325 - val_loss: 1.1399 - val_accuracy: 0.6577\n",
      "Epoch 12/25\n",
      "1250/1250 [==============================] - 10s 8ms/step - loss: 0.4172 - accuracy: 0.8529 - val_loss: 1.2585 - val_accuracy: 0.6474\n",
      "Epoch 13/25\n",
      "1250/1250 [==============================] - 10s 8ms/step - loss: 0.3610 - accuracy: 0.8740 - val_loss: 1.3234 - val_accuracy: 0.6506\n",
      "Epoch 14/25\n",
      "1250/1250 [==============================] - 10s 8ms/step - loss: 0.3170 - accuracy: 0.8875 - val_loss: 1.4286 - val_accuracy: 0.6525\n",
      "Epoch 15/25\n",
      "1250/1250 [==============================] - 10s 8ms/step - loss: 0.2815 - accuracy: 0.9006 - val_loss: 1.4992 - val_accuracy: 0.6503\n",
      "Epoch 16/25\n",
      "1250/1250 [==============================] - 10s 8ms/step - loss: 0.2447 - accuracy: 0.9130 - val_loss: 1.6557 - val_accuracy: 0.6447\n",
      "Epoch 17/25\n",
      "1250/1250 [==============================] - 10s 8ms/step - loss: 0.2145 - accuracy: 0.9247 - val_loss: 1.7668 - val_accuracy: 0.6394\n",
      "Epoch 18/25\n",
      "1250/1250 [==============================] - 10s 8ms/step - loss: 0.1988 - accuracy: 0.9316 - val_loss: 1.8124 - val_accuracy: 0.6381\n",
      "Epoch 19/25\n",
      "1250/1250 [==============================] - 10s 8ms/step - loss: 0.1770 - accuracy: 0.9377 - val_loss: 1.9247 - val_accuracy: 0.6553\n",
      "Epoch 20/25\n",
      "1250/1250 [==============================] - 10s 8ms/step - loss: 0.1617 - accuracy: 0.9428 - val_loss: 2.0451 - val_accuracy: 0.6407\n",
      "Epoch 21/25\n",
      "1250/1250 [==============================] - 10s 8ms/step - loss: 0.1490 - accuracy: 0.9473 - val_loss: 2.1045 - val_accuracy: 0.6415\n",
      "Epoch 22/25\n",
      "1250/1250 [==============================] - 10s 8ms/step - loss: 0.1515 - accuracy: 0.9455 - val_loss: 2.3337 - val_accuracy: 0.6320\n",
      "Epoch 23/25\n",
      "1250/1250 [==============================] - 10s 8ms/step - loss: 0.1268 - accuracy: 0.9552 - val_loss: 2.3678 - val_accuracy: 0.6400\n",
      "Epoch 24/25\n",
      "1250/1250 [==============================] - 10s 8ms/step - loss: 0.1220 - accuracy: 0.9575 - val_loss: 2.4495 - val_accuracy: 0.6474\n",
      "Epoch 25/25\n",
      "1250/1250 [==============================] - 10s 8ms/step - loss: 0.1227 - accuracy: 0.9574 - val_loss: 2.5417 - val_accuracy: 0.6379\n"
     ]
    }
   ],
   "source": [
    "history = model.fit(x_train,y_cat_train,epochs=25,validation_data=(x_val,y_val_cat))"
   ]
  },
  {
   "cell_type": "code",
   "execution_count": 69,
   "id": "ba920843",
   "metadata": {},
   "outputs": [
    {
     "data": {
      "text/plain": [
       "dict_keys(['loss', 'accuracy', 'val_loss', 'val_accuracy'])"
      ]
     },
     "execution_count": 69,
     "metadata": {},
     "output_type": "execute_result"
    }
   ],
   "source": [
    "model.history.history.keys()"
   ]
  },
  {
   "cell_type": "code",
   "execution_count": 71,
   "id": "4c6939c3",
   "metadata": {},
   "outputs": [],
   "source": [
    "import pandas as pd"
   ]
  },
  {
   "cell_type": "code",
   "execution_count": 72,
   "id": "40b46b0d",
   "metadata": {},
   "outputs": [],
   "source": [
    "metrics = pd.DataFrame(model.history.history)"
   ]
  },
  {
   "cell_type": "code",
   "execution_count": 73,
   "id": "3606ac78",
   "metadata": {},
   "outputs": [
    {
     "data": {
      "text/html": [
       "<div>\n",
       "<style scoped>\n",
       "    .dataframe tbody tr th:only-of-type {\n",
       "        vertical-align: middle;\n",
       "    }\n",
       "\n",
       "    .dataframe tbody tr th {\n",
       "        vertical-align: top;\n",
       "    }\n",
       "\n",
       "    .dataframe thead th {\n",
       "        text-align: right;\n",
       "    }\n",
       "</style>\n",
       "<table border=\"1\" class=\"dataframe\">\n",
       "  <thead>\n",
       "    <tr style=\"text-align: right;\">\n",
       "      <th></th>\n",
       "      <th>loss</th>\n",
       "      <th>accuracy</th>\n",
       "      <th>val_loss</th>\n",
       "      <th>val_accuracy</th>\n",
       "    </tr>\n",
       "  </thead>\n",
       "  <tbody>\n",
       "    <tr>\n",
       "      <th>0</th>\n",
       "      <td>1.554636</td>\n",
       "      <td>0.434625</td>\n",
       "      <td>1.329044</td>\n",
       "      <td>0.5254</td>\n",
       "    </tr>\n",
       "    <tr>\n",
       "      <th>1</th>\n",
       "      <td>1.249354</td>\n",
       "      <td>0.556300</td>\n",
       "      <td>1.165653</td>\n",
       "      <td>0.5871</td>\n",
       "    </tr>\n",
       "    <tr>\n",
       "      <th>2</th>\n",
       "      <td>1.098354</td>\n",
       "      <td>0.613650</td>\n",
       "      <td>1.112007</td>\n",
       "      <td>0.6097</td>\n",
       "    </tr>\n",
       "    <tr>\n",
       "      <th>3</th>\n",
       "      <td>0.983682</td>\n",
       "      <td>0.653700</td>\n",
       "      <td>1.043366</td>\n",
       "      <td>0.6330</td>\n",
       "    </tr>\n",
       "    <tr>\n",
       "      <th>4</th>\n",
       "      <td>0.887810</td>\n",
       "      <td>0.688250</td>\n",
       "      <td>1.048590</td>\n",
       "      <td>0.6354</td>\n",
       "    </tr>\n",
       "    <tr>\n",
       "      <th>5</th>\n",
       "      <td>0.806089</td>\n",
       "      <td>0.718975</td>\n",
       "      <td>1.029815</td>\n",
       "      <td>0.6536</td>\n",
       "    </tr>\n",
       "    <tr>\n",
       "      <th>6</th>\n",
       "      <td>0.729736</td>\n",
       "      <td>0.745200</td>\n",
       "      <td>1.030966</td>\n",
       "      <td>0.6573</td>\n",
       "    </tr>\n",
       "    <tr>\n",
       "      <th>7</th>\n",
       "      <td>0.662169</td>\n",
       "      <td>0.767550</td>\n",
       "      <td>1.030507</td>\n",
       "      <td>0.6717</td>\n",
       "    </tr>\n",
       "    <tr>\n",
       "      <th>8</th>\n",
       "      <td>0.596320</td>\n",
       "      <td>0.790650</td>\n",
       "      <td>1.145719</td>\n",
       "      <td>0.6467</td>\n",
       "    </tr>\n",
       "    <tr>\n",
       "      <th>9</th>\n",
       "      <td>0.530532</td>\n",
       "      <td>0.812675</td>\n",
       "      <td>1.132464</td>\n",
       "      <td>0.6544</td>\n",
       "    </tr>\n",
       "    <tr>\n",
       "      <th>10</th>\n",
       "      <td>0.475143</td>\n",
       "      <td>0.832500</td>\n",
       "      <td>1.139875</td>\n",
       "      <td>0.6577</td>\n",
       "    </tr>\n",
       "    <tr>\n",
       "      <th>11</th>\n",
       "      <td>0.417171</td>\n",
       "      <td>0.852850</td>\n",
       "      <td>1.258519</td>\n",
       "      <td>0.6474</td>\n",
       "    </tr>\n",
       "    <tr>\n",
       "      <th>12</th>\n",
       "      <td>0.361037</td>\n",
       "      <td>0.873950</td>\n",
       "      <td>1.323428</td>\n",
       "      <td>0.6506</td>\n",
       "    </tr>\n",
       "    <tr>\n",
       "      <th>13</th>\n",
       "      <td>0.316976</td>\n",
       "      <td>0.887475</td>\n",
       "      <td>1.428612</td>\n",
       "      <td>0.6525</td>\n",
       "    </tr>\n",
       "    <tr>\n",
       "      <th>14</th>\n",
       "      <td>0.281476</td>\n",
       "      <td>0.900575</td>\n",
       "      <td>1.499171</td>\n",
       "      <td>0.6503</td>\n",
       "    </tr>\n",
       "    <tr>\n",
       "      <th>15</th>\n",
       "      <td>0.244718</td>\n",
       "      <td>0.913050</td>\n",
       "      <td>1.655715</td>\n",
       "      <td>0.6447</td>\n",
       "    </tr>\n",
       "    <tr>\n",
       "      <th>16</th>\n",
       "      <td>0.214520</td>\n",
       "      <td>0.924650</td>\n",
       "      <td>1.766770</td>\n",
       "      <td>0.6394</td>\n",
       "    </tr>\n",
       "    <tr>\n",
       "      <th>17</th>\n",
       "      <td>0.198808</td>\n",
       "      <td>0.931650</td>\n",
       "      <td>1.812370</td>\n",
       "      <td>0.6381</td>\n",
       "    </tr>\n",
       "    <tr>\n",
       "      <th>18</th>\n",
       "      <td>0.176974</td>\n",
       "      <td>0.937700</td>\n",
       "      <td>1.924688</td>\n",
       "      <td>0.6553</td>\n",
       "    </tr>\n",
       "    <tr>\n",
       "      <th>19</th>\n",
       "      <td>0.161710</td>\n",
       "      <td>0.942800</td>\n",
       "      <td>2.045127</td>\n",
       "      <td>0.6407</td>\n",
       "    </tr>\n",
       "    <tr>\n",
       "      <th>20</th>\n",
       "      <td>0.148988</td>\n",
       "      <td>0.947275</td>\n",
       "      <td>2.104512</td>\n",
       "      <td>0.6415</td>\n",
       "    </tr>\n",
       "    <tr>\n",
       "      <th>21</th>\n",
       "      <td>0.151462</td>\n",
       "      <td>0.945525</td>\n",
       "      <td>2.333702</td>\n",
       "      <td>0.6320</td>\n",
       "    </tr>\n",
       "    <tr>\n",
       "      <th>22</th>\n",
       "      <td>0.126827</td>\n",
       "      <td>0.955175</td>\n",
       "      <td>2.367818</td>\n",
       "      <td>0.6400</td>\n",
       "    </tr>\n",
       "    <tr>\n",
       "      <th>23</th>\n",
       "      <td>0.121995</td>\n",
       "      <td>0.957550</td>\n",
       "      <td>2.449450</td>\n",
       "      <td>0.6474</td>\n",
       "    </tr>\n",
       "    <tr>\n",
       "      <th>24</th>\n",
       "      <td>0.122659</td>\n",
       "      <td>0.957450</td>\n",
       "      <td>2.541749</td>\n",
       "      <td>0.6379</td>\n",
       "    </tr>\n",
       "  </tbody>\n",
       "</table>\n",
       "</div>"
      ],
      "text/plain": [
       "        loss  accuracy  val_loss  val_accuracy\n",
       "0   1.554636  0.434625  1.329044        0.5254\n",
       "1   1.249354  0.556300  1.165653        0.5871\n",
       "2   1.098354  0.613650  1.112007        0.6097\n",
       "3   0.983682  0.653700  1.043366        0.6330\n",
       "4   0.887810  0.688250  1.048590        0.6354\n",
       "5   0.806089  0.718975  1.029815        0.6536\n",
       "6   0.729736  0.745200  1.030966        0.6573\n",
       "7   0.662169  0.767550  1.030507        0.6717\n",
       "8   0.596320  0.790650  1.145719        0.6467\n",
       "9   0.530532  0.812675  1.132464        0.6544\n",
       "10  0.475143  0.832500  1.139875        0.6577\n",
       "11  0.417171  0.852850  1.258519        0.6474\n",
       "12  0.361037  0.873950  1.323428        0.6506\n",
       "13  0.316976  0.887475  1.428612        0.6525\n",
       "14  0.281476  0.900575  1.499171        0.6503\n",
       "15  0.244718  0.913050  1.655715        0.6447\n",
       "16  0.214520  0.924650  1.766770        0.6394\n",
       "17  0.198808  0.931650  1.812370        0.6381\n",
       "18  0.176974  0.937700  1.924688        0.6553\n",
       "19  0.161710  0.942800  2.045127        0.6407\n",
       "20  0.148988  0.947275  2.104512        0.6415\n",
       "21  0.151462  0.945525  2.333702        0.6320\n",
       "22  0.126827  0.955175  2.367818        0.6400\n",
       "23  0.121995  0.957550  2.449450        0.6474\n",
       "24  0.122659  0.957450  2.541749        0.6379"
      ]
     },
     "execution_count": 73,
     "metadata": {},
     "output_type": "execute_result"
    }
   ],
   "source": [
    "metrics"
   ]
  },
  {
   "cell_type": "code",
   "execution_count": 78,
   "id": "a44920b7",
   "metadata": {},
   "outputs": [
    {
     "data": {
      "image/png": "[encoded data removed]",
      "text/plain": [
       "<Figure size 640x480 with 1 Axes>"
      ]
     },
     "metadata": {},
     "output_type": "display_data"
    }
   ],
   "source": [
    "metrics[['loss', 'val_loss']].plot()\n",
    "plt.title('Training Loss Vs Validation Loss', fontsize=15)\n",
    "plt.show()"
   ]
  },
  {
   "cell_type": "code",
   "execution_count": 79,
   "id": "b1810079",
   "metadata": {},
   "outputs": [
    {
     "data": {
      "image/png": "[encoded data removed]",
      "text/plain": [
       "<Figure size 640x480 with 1 Axes>"
      ]
     },
     "metadata": {},
     "output_type": "display_data"
    }
   ],
   "source": [
    "metrics[['accuracy', 'val_accuracy']].plot()\n",
    "plt.title('Training Accuracy Vs Validation Accuracy', fontsize=15)\n",
    "plt.show()"
   ]
  },
  {
   "cell_type": "code",
   "execution_count": 76,
   "id": "85f80862",
   "metadata": {},
   "outputs": [
    {
     "name": "stdout",
     "output_type": "stream",
     "text": [
      "313/313 [==============================] - 1s 3ms/step - loss: 2.6171 - accuracy: 0.6329\n"
     ]
    },
    {
     "data": {
      "text/plain": [
       "[2.6170876026153564, 0.6328999996185303]"
      ]
     },
     "execution_count": 76,
     "metadata": {},
     "output_type": "execute_result"
    }
   ],
   "source": [
    "model.evaluate(x_test,y_cat_test)"
   ]
  },
  {
   "cell_type": "code",
   "execution_count": 80,
   "id": "7bf52b07",
   "metadata": {},
   "outputs": [],
   "source": [
    "from sklearn.metrics import classification_report, confusion_matrix"
   ]
  },
  {
   "cell_type": "code",
   "execution_count": 87,
   "id": "06f8d399",
   "metadata": {},
   "outputs": [],
   "source": [
    "from sklearn.metrics import confusion_matrix"
   ]
  },
  {
   "cell_type": "code",
   "execution_count": 88,
   "id": "2231690d",
   "metadata": {},
   "outputs": [
    {
     "name": "stdout",
     "output_type": "stream",
     "text": [
      "313/313 [==============================] - 1s 3ms/step\n"
     ]
    }
   ],
   "source": [
    "predictions = np.argmax(model.predict(x_test), axis=-1)"
   ]
  },
  {
   "cell_type": "code",
   "execution_count": 82,
   "id": "284b79c3",
   "metadata": {},
   "outputs": [
    {
     "name": "stdout",
     "output_type": "stream",
     "text": [
      "              precision    recall  f1-score   support\n",
      "\n",
      "           0       0.74      0.65      0.69      1000\n",
      "           1       0.81      0.71      0.75      1000\n",
      "           2       0.62      0.42      0.50      1000\n",
      "           3       0.41      0.49      0.45      1000\n",
      "           4       0.63      0.53      0.57      1000\n",
      "           5       0.48      0.54      0.51      1000\n",
      "           6       0.68      0.74      0.71      1000\n",
      "           7       0.62      0.72      0.66      1000\n",
      "           8       0.75      0.75      0.75      1000\n",
      "           9       0.67      0.78      0.72      1000\n",
      "\n",
      "    accuracy                           0.63     10000\n",
      "   macro avg       0.64      0.63      0.63     10000\n",
      "weighted avg       0.64      0.63      0.63     10000\n",
      "\n"
     ]
    }
   ],
   "source": [
    "print(classification_report(y_test,predictions))"
   ]
  },
  {
   "cell_type": "code",
   "execution_count": 93,
   "id": "ec699b86",
   "metadata": {},
   "outputs": [
    {
     "data": {
      "text/plain": [
       "array([[650,  26,  45,  42,  26,  18,  11,  33,  87,  62],\n",
       "       [ 29, 707,  11,  19,   6,  11,  21,  22,  39, 135],\n",
       "       [ 47,  11, 424, 118,  82, 115,  91,  72,  21,  19],\n",
       "       [ 17,   4,  45, 492,  51, 191,  62,  88,  16,  34],\n",
       "       [ 15,   5,  50, 105, 525,  78,  82, 105,  20,  15],\n",
       "       [  7,   7,  43, 198,  43, 537,  39,  89,  13,  24],\n",
       "       [  7,  10,  32,  84,  40,  60, 739,  10,   9,   9],\n",
       "       [ 15,   5,  22,  65,  44,  76,  17, 723,   5,  28],\n",
       "       [ 70,  36,   6,  36,   5,  18,   9,  11, 752,  57],\n",
       "       [ 26,  63,   8,  28,   7,  17,  10,  22,  39, 780]])"
      ]
     },
     "execution_count": 93,
     "metadata": {},
     "output_type": "execute_result"
    }
   ],
   "source": [
    "confusion_matrix(y_test,predictions)"
   ]
  },
  {
   "cell_type": "code",
   "execution_count": 109,
   "id": "e36da7fb",
   "metadata": {},
   "outputs": [
    {
     "data": {
      "text/plain": [
       "<matplotlib.image.AxesImage at 0x7f83b065c880>"
      ]
     },
     "execution_count": 109,
     "metadata": {},
     "output_type": "execute_result"
    },
    {
     "data": {
      "image/png": "[encoded data removed]",
      "text/plain": [
       "<Figure size 640x480 with 1 Axes>"
      ]
     },
     "metadata": {},
     "output_type": "display_data"
    }
   ],
   "source": [
    "plt.imshow(x_test[40])"
   ]
  },
  {
   "cell_type": "code",
   "execution_count": 110,
   "id": "902ca1e3",
   "metadata": {},
   "outputs": [],
   "source": [
    "test_image = x_test[40]"
   ]
  },
  {
   "cell_type": "code",
   "execution_count": 111,
   "id": "a43e5e4d",
   "metadata": {},
   "outputs": [
    {
     "name": "stdout",
     "output_type": "stream",
     "text": [
      "313/313 [==============================] - 1s 3ms/step\n"
     ]
    }
   ],
   "source": [
    "predict_x=model.predict(x_test) \n",
    "classes_x=np.argmax(predict_x,axis=1)"
   ]
  },
  {
   "cell_type": "code",
   "execution_count": 112,
   "id": "41702ed3",
   "metadata": {
    "scrolled": true
   },
   "outputs": [
    {
     "data": {
      "text/plain": [
       "'deer'"
      ]
     },
     "execution_count": 112,
     "metadata": {},
     "output_type": "execute_result"
    }
   ],
   "source": [
    "class_names[y_test[40][0]]"
   ]
  }
 ],
 "metadata": {
  "kernelspec": {
   "display_name": "Python 3 (ipykernel)",
   "language": "python",
   "name": "python3"
  },
  "language_info": {
   "codemirror_mode": {
    "name": "ipython",
    "version": 3
   },
   "file_extension": ".py",
   "mimetype": "text/x-python",
   "name": "python",
   "nbconvert_exporter": "python",
   "pygments_lexer": "ipython3",
   "version": "3.10.8"
  }
 },
 "nbformat": 4,
 "nbformat_minor": 5
}
