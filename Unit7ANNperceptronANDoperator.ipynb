{
 "cells": [
  {
   "cell_type": "code",
   "execution_count": 29,
   "id": "71538dd4",
   "metadata": {},
   "outputs": [],
   "source": [
    "import numpy as np"
   ]
  },
  {
   "cell_type": "code",
   "execution_count": 30,
   "id": "7d8d6461",
   "metadata": {},
   "outputs": [],
   "source": [
    "inputs = np.array([[0,0], [0,1], [1,0], [1,1]])"
   ]
  },
  {
   "cell_type": "code",
   "execution_count": 31,
   "id": "5f66d29d",
   "metadata": {},
   "outputs": [
    {
     "data": {
      "text/plain": [
       "(4, 2)"
      ]
     },
     "execution_count": 31,
     "metadata": {},
     "output_type": "execute_result"
    }
   ],
   "source": [
    "inputs.shape"
   ]
  },
  {
   "cell_type": "code",
   "execution_count": 32,
   "id": "fcc42959",
   "metadata": {},
   "outputs": [],
   "source": [
    "outputs = np.array([0, 0, 0, 1])"
   ]
  },
  {
   "cell_type": "code",
   "execution_count": 33,
   "id": "28a5f25a",
   "metadata": {},
   "outputs": [
    {
     "data": {
      "text/plain": [
       "(4,)"
      ]
     },
     "execution_count": 33,
     "metadata": {},
     "output_type": "execute_result"
    }
   ],
   "source": [
    "outputs.shape"
   ]
  },
  {
   "cell_type": "code",
   "execution_count": 34,
   "id": "6a6a1b9d",
   "metadata": {},
   "outputs": [],
   "source": [
    "weights = np.array([0.0, 0.0])"
   ]
  },
  {
   "cell_type": "code",
   "execution_count": 35,
   "id": "033aa167",
   "metadata": {},
   "outputs": [],
   "source": [
    "learning_rate = 0.1"
   ]
  },
  {
   "cell_type": "code",
   "execution_count": 36,
   "id": "2279c45d",
   "metadata": {},
   "outputs": [],
   "source": [
    "def step_function(sum):\n",
    "    if (sum >= 1):\n",
    "        return 1\n",
    "    else:\n",
    "        return 0"
   ]
  },
  {
   "cell_type": "code",
   "execution_count": 37,
   "id": "7235c1eb",
   "metadata": {},
   "outputs": [],
   "source": [
    "def cal_output(instance):\n",
    "    sum_func = instance.dot(weights)\n",
    "    return step_function(sum_func)"
   ]
  },
  {
   "cell_type": "code",
   "execution_count": 38,
   "id": "f4eec303",
   "metadata": {},
   "outputs": [
    {
     "data": {
      "text/plain": [
       "0"
      ]
     },
     "execution_count": 38,
     "metadata": {},
     "output_type": "execute_result"
    }
   ],
   "source": [
    "cal_output(np.array([[1,1]]))"
   ]
  },
  {
   "cell_type": "code",
   "execution_count": 39,
   "id": "bbbde74b",
   "metadata": {},
   "outputs": [
    {
     "data": {
      "text/plain": [
       "4"
      ]
     },
     "execution_count": 39,
     "metadata": {},
     "output_type": "execute_result"
    }
   ],
   "source": [
    "len(outputs)"
   ]
  },
  {
   "cell_type": "code",
   "execution_count": 40,
   "id": "5a6c5ccb",
   "metadata": {},
   "outputs": [
    {
     "data": {
      "text/plain": [
       "array([1, 1])"
      ]
     },
     "execution_count": 40,
     "metadata": {},
     "output_type": "execute_result"
    }
   ],
   "source": [
    "inputs[3]"
   ]
  },
  {
   "cell_type": "code",
   "execution_count": 41,
   "id": "d91ec57b",
   "metadata": {},
   "outputs": [
    {
     "data": {
      "text/plain": [
       "array([[0, 0],\n",
       "       [0, 1],\n",
       "       [1, 0],\n",
       "       [1, 1]])"
      ]
     },
     "execution_count": 41,
     "metadata": {},
     "output_type": "execute_result"
    }
   ],
   "source": [
    "inputs"
   ]
  },
  {
   "cell_type": "code",
   "execution_count": 42,
   "id": "4eca3a5b",
   "metadata": {},
   "outputs": [],
   "source": [
    "def train():\n",
    "    total_error_value = 1\n",
    "    while (total_error_value != 0):\n",
    "        total_error_value = 0\n",
    "        for i in range(len(outputs)):\n",
    "            prediction = cal_output(inputs[i])\n",
    "            error = abs(outputs[i] - prediction)\n",
    "            total_error_value += error\n",
    "            if error > 0:\n",
    "                for j in range(len(weights)):\n",
    "                    weights[j] = weights[j] + (learning_rate*inputs[i][j]*error)\n",
    "                    print('Weight updated to: ' + str(weights[j]))\n",
    "        print('Total error Value: ' + str(total_error_value))"
   ]
  },
  {
   "cell_type": "code",
   "execution_count": 43,
   "id": "c11974da",
   "metadata": {},
   "outputs": [
    {
     "name": "stdout",
     "output_type": "stream",
     "text": [
      "Weight updated to: 0.1\n",
      "Weight updated to: 0.1\n",
      "Total error Value: 1\n",
      "Weight updated to: 0.2\n",
      "Weight updated to: 0.2\n",
      "Total error Value: 1\n",
      "Weight updated to: 0.30000000000000004\n",
      "Weight updated to: 0.30000000000000004\n",
      "Total error Value: 1\n",
      "Weight updated to: 0.4\n",
      "Weight updated to: 0.4\n",
      "Total error Value: 1\n",
      "Weight updated to: 0.5\n",
      "Weight updated to: 0.5\n",
      "Total error Value: 1\n",
      "Total error Value: 0\n"
     ]
    }
   ],
   "source": [
    "train()"
   ]
  },
  {
   "cell_type": "code",
   "execution_count": 44,
   "id": "48aefaba",
   "metadata": {},
   "outputs": [
    {
     "data": {
      "text/plain": [
       "array([0.5, 0.5])"
      ]
     },
     "execution_count": 44,
     "metadata": {},
     "output_type": "execute_result"
    }
   ],
   "source": [
    "weights"
   ]
  }
 ],
 "metadata": {
  "kernelspec": {
   "display_name": "Python 3 (ipykernel)",
   "language": "python",
   "name": "python3"
  },
  "language_info": {
   "codemirror_mode": {
    "name": "ipython",
    "version": 3
   },
   "file_extension": ".py",
   "mimetype": "text/x-python",
   "name": "python",
   "nbconvert_exporter": "python",
   "pygments_lexer": "ipython3",
   "version": "3.9.7"
  }
 },
 "nbformat": 4,
 "nbformat_minor": 5
}
